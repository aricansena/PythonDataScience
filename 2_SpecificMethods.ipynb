{
 "cells": [
  {
   "cell_type": "code",
   "execution_count": 1,
   "id": "cad48521",
   "metadata": {},
   "outputs": [],
   "source": [
    "class Fruit():\n",
    "    def __init__(self,name,kcal):\n",
    "        self.name=name\n",
    "        self.kcal=kcal"
   ]
  },
  {
   "cell_type": "code",
   "execution_count": 4,
   "id": "6c344b5c",
   "metadata": {},
   "outputs": [],
   "source": [
    "banana = Fruit(\"Muz\",150)"
   ]
  },
  {
   "cell_type": "code",
   "execution_count": 6,
   "id": "e4e0b1b6",
   "metadata": {},
   "outputs": [
    {
     "data": {
      "text/plain": [
       "150"
      ]
     },
     "execution_count": 6,
     "metadata": {},
     "output_type": "execute_result"
    }
   ],
   "source": [
    "banana.kcal"
   ]
  },
  {
   "cell_type": "code",
   "execution_count": null,
   "id": "80c85e8d",
   "metadata": {},
   "outputs": [],
   "source": []
  }
 ],
 "metadata": {
  "kernelspec": {
   "display_name": "Python 3 (ipykernel)",
   "language": "python",
   "name": "python3"
  },
  "language_info": {
   "codemirror_mode": {
    "name": "ipython",
    "version": 3
   },
   "file_extension": ".py",
   "mimetype": "text/x-python",
   "name": "python",
   "nbconvert_exporter": "python",
   "pygments_lexer": "ipython3",
   "version": "3.11.5"
  }
 },
 "nbformat": 4,
 "nbformat_minor": 5
}
