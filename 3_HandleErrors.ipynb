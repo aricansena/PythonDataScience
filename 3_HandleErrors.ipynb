{
 "cells": [
  {
   "cell_type": "code",
   "execution_count": 9,
   "id": "b2b756a2",
   "metadata": {},
   "outputs": [],
   "source": [
    "def toplama(num1,num2):\n",
    "    return num1 + num2"
   ]
  },
  {
   "cell_type": "code",
   "execution_count": 11,
   "id": "9598d183",
   "metadata": {},
   "outputs": [
    {
     "name": "stdout",
     "output_type": "stream",
     "text": [
      "Enter the first number 45\n",
      "Enter the second number 87\n"
     ]
    },
    {
     "data": {
      "text/plain": [
       "132"
      ]
     },
     "execution_count": 11,
     "metadata": {},
     "output_type": "execute_result"
    }
   ],
   "source": [
    "x = int(input(\"Enter the first number \"))\n",
    "y = int(input(\"Enter the second number \"))\n",
    "toplama(x,y)"
   ]
  },
  {
   "cell_type": "markdown",
   "id": "a2e91e40",
   "metadata": {},
   "source": [
    "## Try & Except & Else & Finally"
   ]
  },
  {
   "cell_type": "code",
   "execution_count": 16,
   "id": "b8fac92d",
   "metadata": {},
   "outputs": [
    {
     "name": "stdout",
     "output_type": "stream",
     "text": [
      "Enter a number Sena\n",
      "Please enter a real number\n",
      "Finnally is called\n",
      "Enter a number 247\n",
      "Thanks\n",
      "Finnally is called\n"
     ]
    }
   ],
   "source": [
    "while True:\n",
    "    try:\n",
    "        num = int(input(\"Enter a number \"))\n",
    "    except:\n",
    "        print(\"Please enter a real number\")\n",
    "        continue\n",
    "    else:\n",
    "        print(\"Thanks\")\n",
    "        break\n",
    "    finally:\n",
    "        print(\"Finnally is called\")"
   ]
  },
  {
   "cell_type": "code",
   "execution_count": null,
   "id": "5407c34d",
   "metadata": {},
   "outputs": [],
   "source": []
  }
 ],
 "metadata": {
  "kernelspec": {
   "display_name": "Python 3 (ipykernel)",
   "language": "python",
   "name": "python3"
  },
  "language_info": {
   "codemirror_mode": {
    "name": "ipython",
    "version": 3
   },
   "file_extension": ".py",
   "mimetype": "text/x-python",
   "name": "python",
   "nbconvert_exporter": "python",
   "pygments_lexer": "ipython3",
   "version": "3.11.5"
  }
 },
 "nbformat": 4,
 "nbformat_minor": 5
}
