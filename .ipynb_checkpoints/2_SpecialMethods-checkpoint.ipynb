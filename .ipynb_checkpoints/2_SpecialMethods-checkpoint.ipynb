{
 "cells": [
  {
   "cell_type": "code",
   "execution_count": 11,
   "id": "cad48521",
   "metadata": {},
   "outputs": [],
   "source": [
    "class Fruit():\n",
    "    def __init__(self,name,kcal):\n",
    "        self.name=name\n",
    "        self.kcal=kcal\n",
    "    def __str__(self):\n",
    "        return f\"{self.name} kcal : {self.kcal}\"\n",
    "    def __len__(self):\n",
    "        return self.kcal\n",
    "   "
   ]
  },
  {
   "cell_type": "code",
   "execution_count": 12,
   "id": "6c344b5c",
   "metadata": {},
   "outputs": [],
   "source": [
    "banana = Fruit(\"Banana\",150)"
   ]
  },
  {
   "cell_type": "code",
   "execution_count": 13,
   "id": "e4e0b1b6",
   "metadata": {},
   "outputs": [
    {
     "data": {
      "text/plain": [
       "150"
      ]
     },
     "execution_count": 13,
     "metadata": {},
     "output_type": "execute_result"
    }
   ],
   "source": [
    "banana.kcal"
   ]
  },
  {
   "cell_type": "code",
   "execution_count": 14,
   "id": "80c85e8d",
   "metadata": {},
   "outputs": [
    {
     "name": "stdout",
     "output_type": "stream",
     "text": [
      "Banana kcal : 150\n"
     ]
    }
   ],
   "source": [
    "print(banana)"
   ]
  },
  {
   "cell_type": "code",
   "execution_count": 15,
   "id": "e312693d",
   "metadata": {},
   "outputs": [],
   "source": [
    "myList = [1,2,\"t\",7.5]"
   ]
  },
  {
   "cell_type": "code",
   "execution_count": 16,
   "id": "fbb3f671",
   "metadata": {},
   "outputs": [
    {
     "name": "stdout",
     "output_type": "stream",
     "text": [
      "[1, 2, 't', 7.5]\n"
     ]
    }
   ],
   "source": [
    "print(myList)"
   ]
  },
  {
   "cell_type": "code",
   "execution_count": 17,
   "id": "a041be48",
   "metadata": {},
   "outputs": [
    {
     "data": {
      "text/plain": [
       "150"
      ]
     },
     "execution_count": 17,
     "metadata": {},
     "output_type": "execute_result"
    }
   ],
   "source": [
    "len(banana)"
   ]
  },
  {
   "cell_type": "code",
   "execution_count": 18,
   "id": "46694019",
   "metadata": {},
   "outputs": [],
   "source": [
    "apple = Fruit(\"Apple\",150)"
   ]
  },
  {
   "cell_type": "code",
   "execution_count": 19,
   "id": "0f246a0b",
   "metadata": {},
   "outputs": [
    {
     "data": {
      "text/plain": [
       "150"
      ]
     },
     "execution_count": 19,
     "metadata": {},
     "output_type": "execute_result"
    }
   ],
   "source": [
    "len(apple)"
   ]
  },
  {
   "cell_type": "code",
   "execution_count": 20,
   "id": "e027b508",
   "metadata": {},
   "outputs": [
    {
     "name": "stdout",
     "output_type": "stream",
     "text": [
      "Apple kcal : 150\n"
     ]
    }
   ],
   "source": [
    "print(apple)"
   ]
  },
  {
   "cell_type": "code",
   "execution_count": null,
   "id": "6b5ec181",
   "metadata": {},
   "outputs": [],
   "source": []
  }
 ],
 "metadata": {
  "kernelspec": {
   "display_name": "Python 3 (ipykernel)",
   "language": "python",
   "name": "python3"
  },
  "language_info": {
   "codemirror_mode": {
    "name": "ipython",
    "version": 3
   },
   "file_extension": ".py",
   "mimetype": "text/x-python",
   "name": "python",
   "nbconvert_exporter": "python",
   "pygments_lexer": "ipython3",
   "version": "3.11.5"
  }
 },
 "nbformat": 4,
 "nbformat_minor": 5
}
