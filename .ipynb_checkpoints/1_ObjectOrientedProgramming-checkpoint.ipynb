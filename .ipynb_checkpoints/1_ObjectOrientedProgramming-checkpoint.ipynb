{
 "cells": [
  {
   "cell_type": "code",
   "execution_count": 72,
   "id": "b65a49c2",
   "metadata": {},
   "outputs": [],
   "source": [
    "class Person():\n",
    "    def __init__(self,name,age,occupation):\n",
    "        print(\"init\")\n",
    "        self.name=name\n",
    "        self.age=age\n",
    "        self.occupation=occupation\n",
    "    def sampleMethod(self):\n",
    "        print(f\"I am {self.name} and my occupation is {self.occupation}\")"
   ]
  },
  {
   "cell_type": "code",
   "execution_count": 73,
   "id": "fd1919a0",
   "metadata": {},
   "outputs": [
    {
     "name": "stdout",
     "output_type": "stream",
     "text": [
      "init\n"
     ]
    }
   ],
   "source": [
    "person = Person(\"Sena\",24,\"Computer Engineer\")"
   ]
  },
  {
   "cell_type": "code",
   "execution_count": 74,
   "id": "eff30bb6",
   "metadata": {},
   "outputs": [
    {
     "data": {
      "text/plain": [
       "'Sena'"
      ]
     },
     "execution_count": 74,
     "metadata": {},
     "output_type": "execute_result"
    }
   ],
   "source": [
    "person.name"
   ]
  },
  {
   "cell_type": "code",
   "execution_count": 75,
   "id": "f501b3cf",
   "metadata": {},
   "outputs": [
    {
     "data": {
      "text/plain": [
       "24"
      ]
     },
     "execution_count": 75,
     "metadata": {},
     "output_type": "execute_result"
    }
   ],
   "source": [
    "person.age"
   ]
  },
  {
   "cell_type": "code",
   "execution_count": 76,
   "id": "6e673e27",
   "metadata": {},
   "outputs": [],
   "source": [
    "person.age= 25"
   ]
  },
  {
   "cell_type": "code",
   "execution_count": 77,
   "id": "53ef6861",
   "metadata": {},
   "outputs": [
    {
     "data": {
      "text/plain": [
       "25"
      ]
     },
     "execution_count": 77,
     "metadata": {},
     "output_type": "execute_result"
    }
   ],
   "source": [
    "person.age"
   ]
  },
  {
   "cell_type": "code",
   "execution_count": 78,
   "id": "35294377",
   "metadata": {},
   "outputs": [
    {
     "data": {
      "text/plain": [
       "'Computer Engineer'"
      ]
     },
     "execution_count": 78,
     "metadata": {},
     "output_type": "execute_result"
    }
   ],
   "source": [
    "person.occupation"
   ]
  },
  {
   "cell_type": "code",
   "execution_count": 79,
   "id": "8a7d92ce",
   "metadata": {},
   "outputs": [
    {
     "name": "stdout",
     "output_type": "stream",
     "text": [
      "I am Sena and my occupation is Computer Engineer\n"
     ]
    }
   ],
   "source": [
    "person.sampleMethod()"
   ]
  },
  {
   "cell_type": "code",
   "execution_count": 104,
   "id": "944b951c",
   "metadata": {},
   "outputs": [],
   "source": [
    "class Dog():\n",
    "    def __init__(self,age=3):\n",
    "        self.age=age\n",
    "    def humanage(self):\n",
    "        self.age =self.age*7\n",
    "        print(f\"Dog age compare to human age is: {self.age}\")"
   ]
  },
  {
   "cell_type": "code",
   "execution_count": 115,
   "id": "8b77b4ae",
   "metadata": {},
   "outputs": [],
   "source": [
    "class Dog():\n",
    "    ageFactor=7\n",
    "    def __init__(self,age=3):\n",
    "        self.age=age\n",
    "    def humanage(self):\n",
    "        return self.age * self.ageFactor"
   ]
  },
  {
   "cell_type": "code",
   "execution_count": 116,
   "id": "11bb9d85",
   "metadata": {},
   "outputs": [],
   "source": [
    "myDog=Dog(3)"
   ]
  },
  {
   "cell_type": "code",
   "execution_count": 117,
   "id": "22e32a6d",
   "metadata": {},
   "outputs": [
    {
     "data": {
      "text/plain": [
       "3"
      ]
     },
     "execution_count": 117,
     "metadata": {},
     "output_type": "execute_result"
    }
   ],
   "source": [
    "myDog.age"
   ]
  },
  {
   "cell_type": "code",
   "execution_count": 118,
   "id": "01c556c5",
   "metadata": {},
   "outputs": [
    {
     "data": {
      "text/plain": [
       "21"
      ]
     },
     "execution_count": 118,
     "metadata": {},
     "output_type": "execute_result"
    }
   ],
   "source": [
    "myDog.humanage()\n"
   ]
  },
  {
   "cell_type": "markdown",
   "id": "6a7e369c",
   "metadata": {},
   "source": [
    "## Inheritance"
   ]
  },
  {
   "cell_type": "code",
   "execution_count": 3,
   "id": "a26ae04a",
   "metadata": {},
   "outputs": [],
   "source": [
    "class Animal():\n",
    "    def __init__(self):\n",
    "        print(\"Animal class init is called\")\n",
    "    def method1(self):\n",
    "        print(\"Animal class method1 is called\")\n",
    "    def method2(self):\n",
    "        print(\"Animal class method2 is called\")"
   ]
  },
  {
   "cell_type": "code",
   "execution_count": 4,
   "id": "1b906ce7",
   "metadata": {},
   "outputs": [
    {
     "name": "stdout",
     "output_type": "stream",
     "text": [
      "Animal class init is called\n"
     ]
    }
   ],
   "source": [
    "myAnimal= Animal()"
   ]
  },
  {
   "cell_type": "code",
   "execution_count": 5,
   "id": "3d331273",
   "metadata": {},
   "outputs": [
    {
     "name": "stdout",
     "output_type": "stream",
     "text": [
      "Animal class method1 is called\n"
     ]
    }
   ],
   "source": [
    "myAnimal.method1()"
   ]
  },
  {
   "cell_type": "code",
   "execution_count": 6,
   "id": "044afadd",
   "metadata": {},
   "outputs": [
    {
     "name": "stdout",
     "output_type": "stream",
     "text": [
      "Animal class method2 is called\n"
     ]
    }
   ],
   "source": [
    "myAnimal.method2()"
   ]
  },
  {
   "cell_type": "code",
   "execution_count": 7,
   "id": "562ce82a",
   "metadata": {},
   "outputs": [],
   "source": [
    "class Cat(Animal):\n",
    "    def __init__(self):\n",
    "        Animal.__init__(self)\n",
    "        print(\"Cat class init is called\")\n",
    "    def meow(self):\n",
    "        print(\"meow\")   \n",
    "    #override\n",
    "    def method1(self):\n",
    "        print(\"Cat class method1 is called\")"
   ]
  },
  {
   "cell_type": "code",
   "execution_count": 8,
   "id": "6e39c624",
   "metadata": {},
   "outputs": [
    {
     "name": "stdout",
     "output_type": "stream",
     "text": [
      "Animal class init is called\n",
      "Cat class init is called\n"
     ]
    }
   ],
   "source": [
    "myCat = Cat()"
   ]
  },
  {
   "cell_type": "code",
   "execution_count": 9,
   "id": "acf219ad",
   "metadata": {},
   "outputs": [
    {
     "name": "stdout",
     "output_type": "stream",
     "text": [
      "meow\n"
     ]
    }
   ],
   "source": [
    "myCat.meow()"
   ]
  },
  {
   "cell_type": "code",
   "execution_count": 10,
   "id": "84c77de5",
   "metadata": {},
   "outputs": [
    {
     "name": "stdout",
     "output_type": "stream",
     "text": [
      "Cat class method1 is called\n"
     ]
    }
   ],
   "source": [
    "myCat.method1()"
   ]
  },
  {
   "cell_type": "code",
   "execution_count": 11,
   "id": "dca353f1",
   "metadata": {},
   "outputs": [
    {
     "name": "stdout",
     "output_type": "stream",
     "text": [
      "Animal class method1 is called\n"
     ]
    }
   ],
   "source": [
    "myAnimal.method1()"
   ]
  },
  {
   "cell_type": "code",
   "execution_count": 12,
   "id": "5e3e284c",
   "metadata": {},
   "outputs": [
    {
     "name": "stdout",
     "output_type": "stream",
     "text": [
      "Animal class init is called\n"
     ]
    }
   ],
   "source": [
    "otherAnimal = Animal()"
   ]
  },
  {
   "cell_type": "code",
   "execution_count": 13,
   "id": "3f27a3d8",
   "metadata": {},
   "outputs": [
    {
     "name": "stdout",
     "output_type": "stream",
     "text": [
      "Animal class method1 is called\n"
     ]
    }
   ],
   "source": [
    "otherAnimal.method1()"
   ]
  },
  {
   "cell_type": "code",
   "execution_count": 14,
   "id": "8dc7b77d",
   "metadata": {},
   "outputs": [
    {
     "name": "stdout",
     "output_type": "stream",
     "text": [
      "Animal class init is called\n",
      "Cat class init is called\n"
     ]
    }
   ],
   "source": [
    "otherCat = Cat()"
   ]
  },
  {
   "cell_type": "code",
   "execution_count": 15,
   "id": "dac183db",
   "metadata": {},
   "outputs": [
    {
     "name": "stdout",
     "output_type": "stream",
     "text": [
      "Cat class method1 is called\n"
     ]
    }
   ],
   "source": [
    "otherCat.method1()"
   ]
  },
  {
   "cell_type": "markdown",
   "id": "e2adc482",
   "metadata": {},
   "source": [
    "## Polymorphism"
   ]
  },
  {
   "cell_type": "code",
   "execution_count": 21,
   "id": "9c3be4b8",
   "metadata": {},
   "outputs": [],
   "source": [
    "class Apple():\n",
    "    def __init__(self,isim):\n",
    "        self.isim=isim\n",
    "        \n",
    "    def giveinfo(self):\n",
    "        return self.isim + \" 100 kcal\"       "
   ]
  },
  {
   "cell_type": "code",
   "execution_count": 22,
   "id": "6f4b4210",
   "metadata": {},
   "outputs": [],
   "source": [
    "class Banana():\n",
    "    def __init__(self,isim):\n",
    "        self.isim=isim\n",
    "        \n",
    "    def giveinfo(self):\n",
    "        return self.isim + \" 150 kcal\" "
   ]
  },
  {
   "cell_type": "code",
   "execution_count": 23,
   "id": "214c8d9b",
   "metadata": {},
   "outputs": [],
   "source": [
    "apple = Apple(\"Apple\")"
   ]
  },
  {
   "cell_type": "code",
   "execution_count": 24,
   "id": "ffbbe06d",
   "metadata": {},
   "outputs": [
    {
     "data": {
      "text/plain": [
       "'Apple 100 kcal'"
      ]
     },
     "execution_count": 24,
     "metadata": {},
     "output_type": "execute_result"
    }
   ],
   "source": [
    "apple.giveinfo()"
   ]
  },
  {
   "cell_type": "code",
   "execution_count": 25,
   "id": "f249f20d",
   "metadata": {},
   "outputs": [],
   "source": [
    "banana =Banana(\"Banana\")"
   ]
  },
  {
   "cell_type": "code",
   "execution_count": 26,
   "id": "10557479",
   "metadata": {},
   "outputs": [
    {
     "data": {
      "text/plain": [
       "'Banana 150 kcal'"
      ]
     },
     "execution_count": 26,
     "metadata": {},
     "output_type": "execute_result"
    }
   ],
   "source": [
    "banana.giveinfo()"
   ]
  },
  {
   "cell_type": "code",
   "execution_count": 28,
   "id": "da1b4340",
   "metadata": {},
   "outputs": [],
   "source": [
    "fruitlist = [apple,banana]"
   ]
  },
  {
   "cell_type": "code",
   "execution_count": 30,
   "id": "d4a57cac",
   "metadata": {},
   "outputs": [
    {
     "name": "stdout",
     "output_type": "stream",
     "text": [
      "Apple 100 kcal\n",
      "Banana 150 kcal\n"
     ]
    }
   ],
   "source": [
    "for fruit in fruitlist :\n",
    "    print(fruit.giveinfo())"
   ]
  },
  {
   "cell_type": "code",
   "execution_count": 33,
   "id": "5eaa065e",
   "metadata": {},
   "outputs": [],
   "source": [
    "def takeinfo(fruit):\n",
    "    print(fruit.giveinfo())"
   ]
  },
  {
   "cell_type": "code",
   "execution_count": 34,
   "id": "87f74525",
   "metadata": {},
   "outputs": [
    {
     "name": "stdout",
     "output_type": "stream",
     "text": [
      "Banana 150 kcal\n"
     ]
    }
   ],
   "source": [
    "takeinfo(banana)"
   ]
  },
  {
   "cell_type": "code",
   "execution_count": 35,
   "id": "0451c4bc",
   "metadata": {},
   "outputs": [
    {
     "name": "stdout",
     "output_type": "stream",
     "text": [
      "Apple 100 kcal\n"
     ]
    }
   ],
   "source": [
    "takeinfo(apple)"
   ]
  }
 ],
 "metadata": {
  "kernelspec": {
   "display_name": "Python 3 (ipykernel)",
   "language": "python",
   "name": "python3"
  },
  "language_info": {
   "codemirror_mode": {
    "name": "ipython",
    "version": 3
   },
   "file_extension": ".py",
   "mimetype": "text/x-python",
   "name": "python",
   "nbconvert_exporter": "python",
   "pygments_lexer": "ipython3",
   "version": "3.11.5"
  }
 },
 "nbformat": 4,
 "nbformat_minor": 5
}
