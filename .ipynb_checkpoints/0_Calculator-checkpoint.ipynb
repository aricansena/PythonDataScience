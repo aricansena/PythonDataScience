{
 "cells": [
  {
   "cell_type": "code",
   "execution_count": null,
   "id": "d3dd9d97",
   "metadata": {},
   "outputs": [
    {
     "name": "stdout",
     "output_type": "stream",
     "text": [
      "Please enter the first number.5\n",
      "Please enter the second number.4\n",
      "Select your operation.+\n",
      "5 + 4 = 9\n",
      "Please enter the first number.98\n",
      "Please enter the second number.89\n",
      "Select your operation.*\n",
      "98 * 89 = 8722\n",
      "Please enter the first number.5\n",
      "Please enter the second number.8\n",
      "Select your operation.ş\n",
      "Please choose one of these operations: +-*/\n",
      "Please enter the first number.4\n",
      "Please enter the second number.ş\n",
      "Please check the numbers.\n",
      "Please enter the first number.4\n",
      "Please enter the second number.h\n",
      "Please check the numbers.\n"
     ]
    }
   ],
   "source": [
    "def calculate(a,b,islem):\n",
    "    if operation not in \"+-/*\":\n",
    "        return \"Please choose one of these operations: +-*/\"\n",
    "    if operation == \"+\":\n",
    "        return(str(a)+\" + \"+ str(b) + \" = \" + str(a+b))\n",
    "    if operation == \"-\":\n",
    "        return(str(a)+\" - \"+ str(b) + \" = \" + str(a-b))\n",
    "    if operation == \"*\":\n",
    "        return(str(a)+\" * \"+ str(b) + \" = \" + str(a*b))\n",
    "    if operation == \"/\":\n",
    "        return(str(a)+\" / \"+ str(b) + \" = \" + str(a/b))\n",
    "\n",
    "while True:\n",
    "    try:\n",
    "        a= int(input(\"Please enter the first number.\"))\n",
    "        b= int(input(\"Please enter the second number.\"))\n",
    "        operation = input(\"Select your operation.\")  \n",
    "        print(calculate(a,b,operation))\n",
    "    except:\n",
    "        print(\"Please check the numbers.\")"
   ]
  },
  {
   "cell_type": "code",
   "execution_count": null,
   "id": "a4bca239",
   "metadata": {},
   "outputs": [],
   "source": []
  }
 ],
 "metadata": {
  "kernelspec": {
   "display_name": "Python 3 (ipykernel)",
   "language": "python",
   "name": "python3"
  },
  "language_info": {
   "codemirror_mode": {
    "name": "ipython",
    "version": 3
   },
   "file_extension": ".py",
   "mimetype": "text/x-python",
   "name": "python",
   "nbconvert_exporter": "python",
   "pygments_lexer": "ipython3",
   "version": "3.11.5"
  }
 },
 "nbformat": 4,
 "nbformat_minor": 5
}
